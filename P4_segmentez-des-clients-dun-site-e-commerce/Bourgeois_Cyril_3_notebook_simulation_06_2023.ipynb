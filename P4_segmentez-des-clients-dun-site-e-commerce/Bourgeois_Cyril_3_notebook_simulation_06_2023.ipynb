{
 "cells": [
  {
   "cell_type": "code",
   "execution_count": 1,
   "id": "4f361c86",
   "metadata": {},
   "outputs": [],
   "source": [
    "import pandas as pd\n",
    "import numpy as np\n",
    "import datetime"
   ]
  },
  {
   "cell_type": "markdown",
   "id": "87d551a8",
   "metadata": {},
   "source": [
    "### 📍 Chargement des données :"
   ]
  },
  {
   "cell_type": "code",
   "execution_count": 2,
   "id": "ddbc507d",
   "metadata": {},
   "outputs": [],
   "source": [
    "df_full = pd.read_csv(\"df_full_entretien.csv\")\n",
    "#df_full = df_full.drop(columns=[\"Unnamed: 0\"])\n",
    "\n",
    "df_cluster_advanced = pd.read_csv(\"df_cluster_advanced.csv\")\n",
    "df_cluster_advanced_scaled = pd.read_csv(\"df_cluster_advanced_scaled.csv\")"
   ]
  },
  {
   "cell_type": "markdown",
   "id": "c9c25120",
   "metadata": {},
   "source": [
    "---"
   ]
  },
  {
   "cell_type": "markdown",
   "id": "006d97ea",
   "metadata": {},
   "source": [
    "### 📍 Préparation des données :"
   ]
  },
  {
   "cell_type": "code",
   "execution_count": 3,
   "id": "1325a12f",
   "metadata": {},
   "outputs": [
    {
     "data": {
      "text/html": [
       "<div>\n",
       "<style scoped>\n",
       "    .dataframe tbody tr th:only-of-type {\n",
       "        vertical-align: middle;\n",
       "    }\n",
       "\n",
       "    .dataframe tbody tr th {\n",
       "        vertical-align: top;\n",
       "    }\n",
       "\n",
       "    .dataframe thead th {\n",
       "        text-align: right;\n",
       "    }\n",
       "</style>\n",
       "<table border=\"1\" class=\"dataframe\">\n",
       "  <thead>\n",
       "    <tr style=\"text-align: right;\">\n",
       "      <th></th>\n",
       "      <th>review_score</th>\n",
       "      <th>CA_tot_client</th>\n",
       "      <th>Ancienneté</th>\n",
       "      <th>fréq_achat</th>\n",
       "      <th>panier_moyen</th>\n",
       "      <th>cluster_KMEANS</th>\n",
       "    </tr>\n",
       "  </thead>\n",
       "  <tbody>\n",
       "    <tr>\n",
       "      <th>0</th>\n",
       "      <td>0.678325</td>\n",
       "      <td>-0.391214</td>\n",
       "      <td>0.689238</td>\n",
       "      <td>0.866507</td>\n",
       "      <td>-0.349911</td>\n",
       "      <td>0</td>\n",
       "    </tr>\n",
       "    <tr>\n",
       "      <th>1</th>\n",
       "      <td>-0.064470</td>\n",
       "      <td>0.479467</td>\n",
       "      <td>1.596773</td>\n",
       "      <td>0.023994</td>\n",
       "      <td>0.008972</td>\n",
       "      <td>0</td>\n",
       "    </tr>\n",
       "    <tr>\n",
       "      <th>2</th>\n",
       "      <td>0.678325</td>\n",
       "      <td>0.237951</td>\n",
       "      <td>-0.108095</td>\n",
       "      <td>0.069360</td>\n",
       "      <td>0.395082</td>\n",
       "      <td>1</td>\n",
       "    </tr>\n",
       "    <tr>\n",
       "      <th>3</th>\n",
       "      <td>-0.064470</td>\n",
       "      <td>-0.597387</td>\n",
       "      <td>-1.443467</td>\n",
       "      <td>-1.265699</td>\n",
       "      <td>-0.594041</td>\n",
       "      <td>1</td>\n",
       "    </tr>\n",
       "    <tr>\n",
       "      <th>4</th>\n",
       "      <td>0.678325</td>\n",
       "      <td>0.241992</td>\n",
       "      <td>2.121846</td>\n",
       "      <td>2.298778</td>\n",
       "      <td>0.399867</td>\n",
       "      <td>0</td>\n",
       "    </tr>\n",
       "    <tr>\n",
       "      <th>...</th>\n",
       "      <td>...</td>\n",
       "      <td>...</td>\n",
       "      <td>...</td>\n",
       "      <td>...</td>\n",
       "      <td>...</td>\n",
       "      <td>...</td>\n",
       "    </tr>\n",
       "    <tr>\n",
       "      <th>98668</th>\n",
       "      <td>0.678325</td>\n",
       "      <td>0.691479</td>\n",
       "      <td>-0.749852</td>\n",
       "      <td>-0.572246</td>\n",
       "      <td>0.932104</td>\n",
       "      <td>1</td>\n",
       "    </tr>\n",
       "    <tr>\n",
       "      <th>98669</th>\n",
       "      <td>0.678325</td>\n",
       "      <td>0.916065</td>\n",
       "      <td>-1.281408</td>\n",
       "      <td>-1.103677</td>\n",
       "      <td>1.198036</td>\n",
       "      <td>1</td>\n",
       "    </tr>\n",
       "    <tr>\n",
       "      <th>98670</th>\n",
       "      <td>0.678325</td>\n",
       "      <td>-0.207090</td>\n",
       "      <td>0.429943</td>\n",
       "      <td>0.607272</td>\n",
       "      <td>-0.131891</td>\n",
       "      <td>0</td>\n",
       "    </tr>\n",
       "    <tr>\n",
       "      <th>98671</th>\n",
       "      <td>0.678325</td>\n",
       "      <td>-0.404282</td>\n",
       "      <td>0.877228</td>\n",
       "      <td>1.054452</td>\n",
       "      <td>-0.365385</td>\n",
       "      <td>0</td>\n",
       "    </tr>\n",
       "    <tr>\n",
       "      <th>98672</th>\n",
       "      <td>0.678325</td>\n",
       "      <td>-0.462618</td>\n",
       "      <td>-1.054524</td>\n",
       "      <td>-0.876847</td>\n",
       "      <td>-0.434461</td>\n",
       "      <td>1</td>\n",
       "    </tr>\n",
       "  </tbody>\n",
       "</table>\n",
       "<p>98673 rows × 6 columns</p>\n",
       "</div>"
      ],
      "text/plain": [
       "       review_score  CA_tot_client  Ancienneté  fréq_achat  panier_moyen  \\\n",
       "0          0.678325      -0.391214    0.689238    0.866507     -0.349911   \n",
       "1         -0.064470       0.479467    1.596773    0.023994      0.008972   \n",
       "2          0.678325       0.237951   -0.108095    0.069360      0.395082   \n",
       "3         -0.064470      -0.597387   -1.443467   -1.265699     -0.594041   \n",
       "4          0.678325       0.241992    2.121846    2.298778      0.399867   \n",
       "...             ...            ...         ...         ...           ...   \n",
       "98668      0.678325       0.691479   -0.749852   -0.572246      0.932104   \n",
       "98669      0.678325       0.916065   -1.281408   -1.103677      1.198036   \n",
       "98670      0.678325      -0.207090    0.429943    0.607272     -0.131891   \n",
       "98671      0.678325      -0.404282    0.877228    1.054452     -0.365385   \n",
       "98672      0.678325      -0.462618   -1.054524   -0.876847     -0.434461   \n",
       "\n",
       "       cluster_KMEANS  \n",
       "0                   0  \n",
       "1                   0  \n",
       "2                   1  \n",
       "3                   1  \n",
       "4                   0  \n",
       "...               ...  \n",
       "98668               1  \n",
       "98669               1  \n",
       "98670               0  \n",
       "98671               0  \n",
       "98672               1  \n",
       "\n",
       "[98673 rows x 6 columns]"
      ]
     },
     "execution_count": 3,
     "metadata": {},
     "output_type": "execute_result"
    }
   ],
   "source": [
    "df_cluster_advanced_scaled = df_cluster_advanced_scaled.drop(columns=[\"Unnamed: 0\"])\n",
    "df_cluster_advanced_scaled"
   ]
  },
  {
   "cell_type": "code",
   "execution_count": 4,
   "id": "9953eb35",
   "metadata": {},
   "outputs": [
    {
     "data": {
      "text/html": [
       "<div>\n",
       "<style scoped>\n",
       "    .dataframe tbody tr th:only-of-type {\n",
       "        vertical-align: middle;\n",
       "    }\n",
       "\n",
       "    .dataframe tbody tr th {\n",
       "        vertical-align: top;\n",
       "    }\n",
       "\n",
       "    .dataframe thead th {\n",
       "        text-align: right;\n",
       "    }\n",
       "</style>\n",
       "<table border=\"1\" class=\"dataframe\">\n",
       "  <thead>\n",
       "    <tr style=\"text-align: right;\">\n",
       "      <th></th>\n",
       "      <th>review_score</th>\n",
       "      <th>CA_tot_client</th>\n",
       "      <th>Ancienneté</th>\n",
       "      <th>fréq_achat</th>\n",
       "      <th>panier_moyen</th>\n",
       "    </tr>\n",
       "    <tr>\n",
       "      <th>customer_unique_id</th>\n",
       "      <th></th>\n",
       "      <th></th>\n",
       "      <th></th>\n",
       "      <th></th>\n",
       "      <th></th>\n",
       "    </tr>\n",
       "  </thead>\n",
       "  <tbody>\n",
       "    <tr>\n",
       "      <th>871766c5855e863f6eccc05f988b23cb</th>\n",
       "      <td>5.0</td>\n",
       "      <td>58.90</td>\n",
       "      <td>400.0</td>\n",
       "      <td>400.0</td>\n",
       "      <td>58.90</td>\n",
       "    </tr>\n",
       "    <tr>\n",
       "      <th>eb28e67c4c0b83846050ddfb8a35d051</th>\n",
       "      <td>4.0</td>\n",
       "      <td>252.78</td>\n",
       "      <td>540.0</td>\n",
       "      <td>270.0</td>\n",
       "      <td>126.39</td>\n",
       "    </tr>\n",
       "    <tr>\n",
       "      <th>3818d81c6709e39d06b2738a8d3a2474</th>\n",
       "      <td>5.0</td>\n",
       "      <td>199.00</td>\n",
       "      <td>277.0</td>\n",
       "      <td>277.0</td>\n",
       "      <td>199.00</td>\n",
       "    </tr>\n",
       "    <tr>\n",
       "      <th>af861d436cfc08b2c2ddefd0ba074622</th>\n",
       "      <td>4.0</td>\n",
       "      <td>12.99</td>\n",
       "      <td>71.0</td>\n",
       "      <td>71.0</td>\n",
       "      <td>12.99</td>\n",
       "    </tr>\n",
       "    <tr>\n",
       "      <th>64b576fb70d441e8f1b2d7d446e483c5</th>\n",
       "      <td>5.0</td>\n",
       "      <td>199.90</td>\n",
       "      <td>621.0</td>\n",
       "      <td>621.0</td>\n",
       "      <td>199.90</td>\n",
       "    </tr>\n",
       "    <tr>\n",
       "      <th>...</th>\n",
       "      <td>...</td>\n",
       "      <td>...</td>\n",
       "      <td>...</td>\n",
       "      <td>...</td>\n",
       "      <td>...</td>\n",
       "    </tr>\n",
       "    <tr>\n",
       "      <th>0c9aeda10a71f369396d0c04dce13a64</th>\n",
       "      <td>5.0</td>\n",
       "      <td>299.99</td>\n",
       "      <td>178.0</td>\n",
       "      <td>178.0</td>\n",
       "      <td>299.99</td>\n",
       "    </tr>\n",
       "    <tr>\n",
       "      <th>0da9fe112eae0c74d3ba1fe16de0988b</th>\n",
       "      <td>5.0</td>\n",
       "      <td>350.00</td>\n",
       "      <td>96.0</td>\n",
       "      <td>96.0</td>\n",
       "      <td>350.00</td>\n",
       "    </tr>\n",
       "    <tr>\n",
       "      <th>cd79b407828f02fdbba457111c38e4c4</th>\n",
       "      <td>5.0</td>\n",
       "      <td>99.90</td>\n",
       "      <td>360.0</td>\n",
       "      <td>360.0</td>\n",
       "      <td>99.90</td>\n",
       "    </tr>\n",
       "    <tr>\n",
       "      <th>eb803377c9315b564bdedad672039306</th>\n",
       "      <td>5.0</td>\n",
       "      <td>55.99</td>\n",
       "      <td>429.0</td>\n",
       "      <td>429.0</td>\n",
       "      <td>55.99</td>\n",
       "    </tr>\n",
       "    <tr>\n",
       "      <th>cd76a00d8e3ca5e6ab9ed9ecb6667ac4</th>\n",
       "      <td>5.0</td>\n",
       "      <td>43.00</td>\n",
       "      <td>131.0</td>\n",
       "      <td>131.0</td>\n",
       "      <td>43.00</td>\n",
       "    </tr>\n",
       "  </tbody>\n",
       "</table>\n",
       "<p>98673 rows × 5 columns</p>\n",
       "</div>"
      ],
      "text/plain": [
       "                                  review_score  CA_tot_client  Ancienneté  \\\n",
       "customer_unique_id                                                          \n",
       "871766c5855e863f6eccc05f988b23cb           5.0          58.90       400.0   \n",
       "eb28e67c4c0b83846050ddfb8a35d051           4.0         252.78       540.0   \n",
       "3818d81c6709e39d06b2738a8d3a2474           5.0         199.00       277.0   \n",
       "af861d436cfc08b2c2ddefd0ba074622           4.0          12.99        71.0   \n",
       "64b576fb70d441e8f1b2d7d446e483c5           5.0         199.90       621.0   \n",
       "...                                        ...            ...         ...   \n",
       "0c9aeda10a71f369396d0c04dce13a64           5.0         299.99       178.0   \n",
       "0da9fe112eae0c74d3ba1fe16de0988b           5.0         350.00        96.0   \n",
       "cd79b407828f02fdbba457111c38e4c4           5.0          99.90       360.0   \n",
       "eb803377c9315b564bdedad672039306           5.0          55.99       429.0   \n",
       "cd76a00d8e3ca5e6ab9ed9ecb6667ac4           5.0          43.00       131.0   \n",
       "\n",
       "                                  fréq_achat  panier_moyen  \n",
       "customer_unique_id                                          \n",
       "871766c5855e863f6eccc05f988b23cb       400.0         58.90  \n",
       "eb28e67c4c0b83846050ddfb8a35d051       270.0        126.39  \n",
       "3818d81c6709e39d06b2738a8d3a2474       277.0        199.00  \n",
       "af861d436cfc08b2c2ddefd0ba074622        71.0         12.99  \n",
       "64b576fb70d441e8f1b2d7d446e483c5       621.0        199.90  \n",
       "...                                      ...           ...  \n",
       "0c9aeda10a71f369396d0c04dce13a64       178.0        299.99  \n",
       "0da9fe112eae0c74d3ba1fe16de0988b        96.0        350.00  \n",
       "cd79b407828f02fdbba457111c38e4c4       360.0         99.90  \n",
       "eb803377c9315b564bdedad672039306       429.0         55.99  \n",
       "cd76a00d8e3ca5e6ab9ed9ecb6667ac4       131.0         43.00  \n",
       "\n",
       "[98673 rows x 5 columns]"
      ]
     },
     "execution_count": 4,
     "metadata": {},
     "output_type": "execute_result"
    }
   ],
   "source": [
    "df_cluster_advanced = df_cluster_advanced.set_index(\"customer_unique_id\")\n",
    "df_cluster_advanced_scaled.index = df_cluster_advanced.index\n",
    "df_cluster_advanced"
   ]
  },
  {
   "cell_type": "code",
   "execution_count": 5,
   "id": "c02ee013",
   "metadata": {},
   "outputs": [],
   "source": [
    "#df_cluster_advanced = df_cluster_advanced.drop(columns=[\"cluster_KMEANS\"])\n",
    "df_cluster_advanced_scaled = df_cluster_advanced_scaled.drop(columns=[\"cluster_KMEANS\"])"
   ]
  },
  {
   "cell_type": "markdown",
   "id": "0bc8cbdf",
   "metadata": {},
   "source": [
    "### 📍  Plage des dates à évaluer :"
   ]
  },
  {
   "cell_type": "code",
   "execution_count": 6,
   "id": "48a8871e",
   "metadata": {},
   "outputs": [
    {
     "data": {
      "text/plain": [
       "'2016-09-04 21:15:19'"
      ]
     },
     "execution_count": 6,
     "metadata": {},
     "output_type": "execute_result"
    }
   ],
   "source": [
    "df_full.order_purchase_timestamp.min()"
   ]
  },
  {
   "cell_type": "code",
   "execution_count": 7,
   "id": "434ab2ad",
   "metadata": {},
   "outputs": [
    {
     "data": {
      "text/plain": [
       "'2018-10-17 17:30:18'"
      ]
     },
     "execution_count": 7,
     "metadata": {},
     "output_type": "execute_result"
    }
   ],
   "source": [
    "df_full.order_purchase_timestamp.max()"
   ]
  },
  {
   "cell_type": "markdown",
   "id": "2c1963eb",
   "metadata": {},
   "source": [
    "---"
   ]
  },
  {
   "cell_type": "markdown",
   "id": "4694636c",
   "metadata": {},
   "source": [
    "# 👩‍🚀👨‍🚀 Test de durée optimale d'entretien des systèmes de clustering"
   ]
  },
  {
   "cell_type": "markdown",
   "id": "96b47d20",
   "metadata": {},
   "source": [
    "---"
   ]
  },
  {
   "cell_type": "markdown",
   "id": "8e253fc0",
   "metadata": {},
   "source": [
    "##### Le premier client a 773 jours d'ancienneté.\n",
    "##### Le dernier client 45 jours.\n",
    "##### Les premiers tests d'entraînement du système de clustering réalisés ont donc porté sur une période de 1 an à compter de l'obtention du premier client soit ancienneté entre 773 jours et 408 jours d'ancienneté afin d'étalonner notre algorithme sur la première année d'activité."
   ]
  },
  {
   "cell_type": "markdown",
   "id": "e2b92b50",
   "metadata": {},
   "source": [
    "#### Les deux premiers mois d'activité ont été particulièrement spécifiques raisons pour laquelle notre test suivant nous a conduit à les retirer de l'entraînement initial de notre sustème de clustering. (plage de d'ancienneté pour l'entraînement : 714,347)"
   ]
  },
  {
   "cell_type": "code",
   "execution_count": 8,
   "id": "7983ea68",
   "metadata": {},
   "outputs": [
    {
     "data": {
      "text/plain": [
       "256"
      ]
     },
     "execution_count": 8,
     "metadata": {},
     "output_type": "execute_result"
    }
   ],
   "source": [
    "773-517"
   ]
  },
  {
   "cell_type": "code",
   "execution_count": 9,
   "id": "948ef617",
   "metadata": {},
   "outputs": [
    {
     "data": {
      "text/plain": [
       "365"
      ]
     },
     "execution_count": 9,
     "metadata": {},
     "output_type": "execute_result"
    }
   ],
   "source": [
    "773-408"
   ]
  },
  {
   "cell_type": "markdown",
   "id": "e4d22d0d",
   "metadata": {},
   "source": [
    "#### 📌 Préparation DataFrame :"
   ]
  },
  {
   "cell_type": "code",
   "execution_count": 10,
   "id": "7f516db7",
   "metadata": {},
   "outputs": [],
   "source": [
    "#df_RFM['Ancienneté'] = df_RFM['Ancienneté'].apply(lambda x: int(x.split()[0]))"
   ]
  },
  {
   "cell_type": "markdown",
   "id": "00f6621c",
   "metadata": {},
   "source": [
    "##### Comme découvert dans les pré-tests le KMEANS avec 3 clusters est idéal afin de traiter notre problématique de clustering."
   ]
  },
  {
   "cell_type": "markdown",
   "id": "3ddfca1e",
   "metadata": {},
   "source": [
    "### 📍 1 -  Attribuer un cluster à l'ensemble des customer_id_unique et sur la totalité de la durée analysable :"
   ]
  },
  {
   "cell_type": "code",
   "execution_count": 11,
   "id": "6b6b064c",
   "metadata": {},
   "outputs": [],
   "source": [
    "from sklearn.preprocessing import StandardScaler\n",
    "from sklearn.cluster import KMeans\n",
    "from sklearn.metrics import silhouette_score\n",
    "\n",
    "#scaler = StandardScaler()\n",
    "scaled_data = df_cluster_advanced_scaled"
   ]
  },
  {
   "cell_type": "markdown",
   "id": "a98aba94",
   "metadata": {},
   "source": [
    "---"
   ]
  },
  {
   "cell_type": "markdown",
   "id": "7fdfb96b",
   "metadata": {},
   "source": [
    "### 📍 Entraîner notre KMEANS sur tout le jeu de données :"
   ]
  },
  {
   "cell_type": "code",
   "execution_count": 12,
   "id": "aa8e834c",
   "metadata": {},
   "outputs": [
    {
     "name": "stdout",
     "output_type": "stream",
     "text": [
      "0.3238785563636519\n"
     ]
    }
   ],
   "source": [
    "km = KMeans(n_clusters=5, init='k-means++', n_init = 10)\n",
    "km.fit(df_cluster_advanced_scaled)\n",
    "res = silhouette_score(df_cluster_advanced_scaled, km.labels_)\n",
    "print(res)"
   ]
  },
  {
   "cell_type": "markdown",
   "id": "29b26062",
   "metadata": {},
   "source": [
    "---"
   ]
  },
  {
   "cell_type": "markdown",
   "id": "6e01f96d",
   "metadata": {},
   "source": [
    "### 📍 Intégrer au jeu de données les clusters sur une année :"
   ]
  },
  {
   "cell_type": "code",
   "execution_count": 13,
   "id": "332320d9",
   "metadata": {},
   "outputs": [],
   "source": [
    "scaled_data = pd.DataFrame(df_cluster_advanced_scaled, columns = df_cluster_advanced.columns)\n",
    "df_RFM = df_cluster_advanced_scaled\n",
    "df_RFM_cluster = df_cluster_advanced\n",
    "df_RFM_cluster[\"cluster\"] = km.labels_\n",
    "\n",
    "scaled_data_with_clusters = df_cluster_advanced_scaled\n",
    "scaled_data_with_clusters[\"cluster\"] = km.labels_"
   ]
  },
  {
   "cell_type": "markdown",
   "id": "93948771",
   "metadata": {},
   "source": [
    "---"
   ]
  },
  {
   "cell_type": "markdown",
   "id": "4fa0b7ef",
   "metadata": {},
   "source": [
    "---"
   ]
  },
  {
   "cell_type": "markdown",
   "id": "1d59aed4",
   "metadata": {},
   "source": [
    "# 📍 Test de longévité du système entraîné :"
   ]
  },
  {
   "cell_type": "markdown",
   "id": "e95565f4",
   "metadata": {},
   "source": [
    "---"
   ]
  },
  {
   "cell_type": "markdown",
   "id": "156f8dab",
   "metadata": {},
   "source": [
    "### 👩‍💻 Test avec calcul de l'ARI sur les nouvelles données uniquement :\n",
    "### Entraînement sur 1 an et vérification de stabilité :"
   ]
  },
  {
   "cell_type": "markdown",
   "id": "28c3b621",
   "metadata": {},
   "source": [
    "---"
   ]
  },
  {
   "cell_type": "code",
   "execution_count": 14,
   "id": "a6a6cb0c",
   "metadata": {},
   "outputs": [
    {
     "name": "stderr",
     "output_type": "stream",
     "text": [
      "C:\\Users\\cyril\\anaconda3\\lib\\site-packages\\sklearn\\cluster\\_kmeans.py:870: FutureWarning: The default value of `n_init` will change from 10 to 'auto' in 1.4. Set the value of `n_init` explicitly to suppress the warning\n",
      "  warnings.warn(\n"
     ]
    },
    {
     "name": "stdout",
     "output_type": "stream",
     "text": [
      "Itération 1:\n",
      "+ 15 jours\n",
      "Nombre de données exploitées :  (2120, 6)\n",
      "Étiquettes des échantillons : [3 3 0 ... 3 3 3]\n",
      "Adjusted Rand Index (ARI) : 0.9106367406102999\n",
      "\n",
      "Itération 2:\n",
      "+ 30 jours\n",
      "Nombre de données exploitées :  (4237, 6)\n",
      "Étiquettes des échantillons : [3 3 3 ... 3 3 3]\n",
      "Adjusted Rand Index (ARI) : 0.91596427093984\n",
      "\n",
      "Itération 3:\n",
      "+ 45 jours\n",
      "Nombre de données exploitées :  (6556, 6)\n",
      "Étiquettes des échantillons : [3 3 3 ... 3 3 3]\n",
      "Adjusted Rand Index (ARI) : 0.8980396088395357\n",
      "\n",
      "Itération 4:\n",
      "+ 60 jours\n",
      "Nombre de données exploitées :  (8632, 6)\n",
      "Étiquettes des échantillons : [3 3 0 ... 3 3 3]\n",
      "Adjusted Rand Index (ARI) : 0.8845914782967699\n",
      "\n",
      "Itération 5:\n",
      "+ 75 jours\n",
      "Nombre de données exploitées :  (11253, 6)\n",
      "Étiquettes des échantillons : [3 3 0 ... 3 3 3]\n",
      "Adjusted Rand Index (ARI) : 0.8767066353283792\n",
      "\n",
      "Itération 6:\n",
      "+ 90 jours\n",
      "Nombre de données exploitées :  (16391, 6)\n",
      "Étiquettes des échantillons : [3 3 3 ... 3 3 3]\n",
      "Adjusted Rand Index (ARI) : 0.8634866523618474\n",
      "\n",
      "Itération 7:\n",
      "+ 105 jours\n",
      "Nombre de données exploitées :  (19666, 6)\n",
      "Étiquettes des échantillons : [3 3 3 ... 3 3 3]\n",
      "Adjusted Rand Index (ARI) : 0.856802063801068\n",
      "\n",
      "Itération 8:\n",
      "+ 120 jours\n",
      "Nombre de données exploitées :  (21587, 6)\n",
      "Étiquettes des échantillons : [3 3 3 ... 3 3 3]\n",
      "Adjusted Rand Index (ARI) : 0.8465057635603925\n",
      "\n",
      "Itération 9:\n",
      "+ 135 jours\n",
      "Nombre de données exploitées :  (25311, 6)\n",
      "Étiquettes des échantillons : [3 3 3 ... 3 3 3]\n",
      "Adjusted Rand Index (ARI) : 0.8013496451612978\n",
      "\n",
      "Itération 10:\n",
      "+ 150 jours\n",
      "Nombre de données exploitées :  (28716, 6)\n",
      "Étiquettes des échantillons : [3 3 3 ... 3 3 3]\n",
      "Adjusted Rand Index (ARI) : 0.7715399036159478\n",
      "\n",
      "Itération 11:\n",
      "+ 165 jours\n",
      "Nombre de données exploitées :  (32136, 6)\n",
      "Étiquettes des échantillons : [3 3 3 ... 3 3 3]\n",
      "Adjusted Rand Index (ARI) : 0.7483240528386397\n",
      "\n",
      "Itération 12:\n",
      "+ 180 jours\n",
      "Nombre de données exploitées :  (35906, 6)\n",
      "Étiquettes des échantillons : [3 3 3 ... 3 3 3]\n",
      "Adjusted Rand Index (ARI) : 0.729005310966954\n",
      "\n",
      "Itération 13:\n",
      "+ 195 jours\n",
      "Nombre de données exploitées :  (39297, 6)\n",
      "Étiquettes des échantillons : [3 3 3 ... 3 3 3]\n",
      "Adjusted Rand Index (ARI) : 0.6356947608196443\n",
      "\n",
      "Itération 14:\n",
      "+ 210 jours\n",
      "Nombre de données exploitées :  (42695, 6)\n",
      "Étiquettes des échantillons : [3 3 3 ... 3 3 3]\n",
      "Adjusted Rand Index (ARI) : 0.5421023024336848\n",
      "\n",
      "Itération 15:\n",
      "+ 225 jours\n",
      "Nombre de données exploitées :  (46063, 6)\n",
      "Étiquettes des échantillons : [3 3 3 ... 3 3 3]\n",
      "Adjusted Rand Index (ARI) : 0.47421810940105413\n",
      "\n",
      "Itération 16:\n",
      "+ 240 jours\n",
      "Nombre de données exploitées :  (49552, 6)\n",
      "Étiquettes des échantillons : [3 3 3 ... 3 3 3]\n",
      "Adjusted Rand Index (ARI) : 0.42245725048956684\n",
      "\n",
      "Itération 17:\n",
      "+ 255 jours\n",
      "Nombre de données exploitées :  (53784, 6)\n",
      "Étiquettes des échantillons : [3 3 3 ... 3 3 3]\n",
      "Adjusted Rand Index (ARI) : 0.3778965433516696\n",
      "\n",
      "Itération 18:\n",
      "+ 270 jours\n",
      "Nombre de données exploitées :  (55954, 6)\n",
      "Étiquettes des échantillons : [3 3 3 ... 3 3 3]\n",
      "Adjusted Rand Index (ARI) : 0.36161065575467644\n",
      "\n",
      "Itération 19:\n",
      "+ 285 jours\n",
      "Nombre de données exploitées :  (58981, 6)\n",
      "Étiquettes des échantillons : [3 3 3 ... 3 3 3]\n",
      "Adjusted Rand Index (ARI) : 0.3426945847399862\n",
      "\n",
      "Itération 20:\n",
      "+ 300 jours\n",
      "Nombre de données exploitées :  (61906, 6)\n",
      "Étiquettes des échantillons : [3 3 3 ... 3 3 3]\n",
      "Adjusted Rand Index (ARI) : 0.3267010613063711\n",
      "\n",
      "Itération 21:\n",
      "+ 315 jours\n",
      "Nombre de données exploitées :  (64272, 6)\n",
      "Étiquettes des échantillons : [3 3 3 ... 3 3 3]\n",
      "Adjusted Rand Index (ARI) : 0.31422548373462894\n",
      "\n",
      "Itération 22:\n",
      "+ 330 jours\n",
      "Nombre de données exploitées :  (67827, 6)\n",
      "Étiquettes des échantillons : [3 3 3 ... 3 3 3]\n",
      "Adjusted Rand Index (ARI) : 0.2999794417841241\n",
      "\n",
      "Itération 23:\n",
      "+ 345 jours\n",
      "Nombre de données exploitées :  (72049, 6)\n",
      "Étiquettes des échantillons : [3 3 3 ... 3 3 3]\n",
      "Adjusted Rand Index (ARI) : 0.28607320967356203\n",
      "\n",
      "Itération 24:\n",
      "+ 360 jours\n",
      "Nombre de données exploitées :  (74258, 6)\n",
      "Étiquettes des échantillons : [3 3 3 ... 3 3 3]\n",
      "Adjusted Rand Index (ARI) : 0.28272816706423304\n",
      "\n",
      "Itération 25:\n",
      "+ 375 jours\n",
      "Nombre de données exploitées :  (74262, 6)\n",
      "Étiquettes des échantillons : [3 3 3 ... 3 3 3]\n",
      "Adjusted Rand Index (ARI) : 0.28268513437520043\n",
      "\n"
     ]
    }
   ],
   "source": [
    "from sklearn.cluster import KMeans\n",
    "from sklearn.metrics import adjusted_rand_score\n",
    "from sklearn.preprocessing import StandardScaler\n",
    "from sklearn.metrics import silhouette_score\n",
    "\n",
    "# Nombre d'itérations\n",
    "n_iterations = 25\n",
    "\n",
    "# Entraînement modèle de base :\n",
    "df_RFM_1_an = df_cluster_advanced\n",
    "df_RFM_1_an = df_RFM_1_an.loc[(df_RFM_1_an[\"Ancienneté\"] < 773) &\n",
    "                              (df_RFM_1_an[\"Ancienneté\"] > 408), :]\n",
    "\n",
    "scaler_init = StandardScaler()\n",
    "scaled_data_init = scaler_init.fit_transform(df_RFM_1_an)\n",
    "scaled_data_init = pd.DataFrame(scaled_data_init, columns = df_RFM_1_an.columns)\n",
    "\n",
    "kmeans = KMeans(n_clusters=5, init='k-means++', random_state=1)\n",
    "kmeans.fit(scaled_data_init)\n",
    "\n",
    "# Effectuer plusieurs K-means avec des initialisations aléatoires\n",
    "for i in range(n_iterations):\n",
    "    i += 1\n",
    "    # Étiquettes de classe réelles (pour l'évaluation de l'ARI)\n",
    "    y_true = df_RFM_cluster.loc[(df_RFM_cluster[\"Ancienneté\"] < 408) &\n",
    "                                (df_RFM_cluster[\"Ancienneté\"] > (408-(i*15))),\n",
    "                                'cluster' ]\n",
    "    \n",
    "    X = df_cluster_advanced.loc[(df_cluster_advanced[\"Ancienneté\"] < 408) &\n",
    "                                (df_cluster_advanced[\"Ancienneté\"] > (408-(i*15))), :]\n",
    "    \n",
    "    #scaler = StandardScaler()\n",
    "    X_scaled = scaler_init.transform(X)\n",
    "    X_scaled = pd.DataFrame(X_scaled, columns = df_cluster_advanced.columns)\n",
    "    \n",
    "    # Effectuer le clustering\n",
    "    labels = kmeans.predict(X_scaled)\n",
    "    \n",
    "    # Obtenir les étiquettes de cluster assignées à chaque échantillon\n",
    "    #labels = kmeans.labels_\n",
    "    \n",
    "    # Calculer l'Adjusted Rand Index (ARI)\n",
    "    ari = adjusted_rand_score(y_true, labels)\n",
    "    \n",
    "    # Afficher les résultats\n",
    "    print(f\"Itération {i}:\")\n",
    "    print(\"+\",i*15,'jours')\n",
    "    print(\"Nombre de données exploitées : \", X.shape)\n",
    "    print(\"Étiquettes des échantillons :\", labels)\n",
    "    print(\"Adjusted Rand Index (ARI) :\", ari)\n",
    "    print()"
   ]
  },
  {
   "cell_type": "code",
   "execution_count": 15,
   "id": "7b2f8a5a",
   "metadata": {},
   "outputs": [],
   "source": [
    "df_RFM_cluster.to_csv(\"fichier_client_avec_clusters.csv\")"
   ]
  },
  {
   "cell_type": "markdown",
   "id": "10193b8b",
   "metadata": {},
   "source": [
    "---"
   ]
  },
  {
   "cell_type": "markdown",
   "id": "e082670a",
   "metadata": {},
   "source": [
    "## 👨‍🚀👩‍🚀🚀 Nécessité de suivi au bout de 135 à 150 jours soit au bout de 5 mois. Le modèle sera surement plus robuste à l'avenir mais nous avons besoin de plus de données donc de temps d'activité pour diminuer le besoin de suivi."
   ]
  },
  {
   "cell_type": "markdown",
   "id": "debc6342",
   "metadata": {},
   "source": [
    "---\n",
    "---\n",
    "---"
   ]
  },
  {
   "cell_type": "markdown",
   "id": "c37be3a6",
   "metadata": {},
   "source": [
    "## Modèle qui pourra être étudié lors du suivi à +4mois et demi ou +6 mois.\n",
    "## Classification automatisée auto-apprenante tous les quinze jours  ! ! ! ! (Brouillon)"
   ]
  },
  {
   "cell_type": "markdown",
   "id": "cbf66590",
   "metadata": {},
   "source": [
    "---"
   ]
  },
  {
   "cell_type": "code",
   "execution_count": 24,
   "id": "c049b45d",
   "metadata": {},
   "outputs": [
    {
     "name": "stderr",
     "output_type": "stream",
     "text": [
      "C:\\Users\\cyril\\anaconda3\\lib\\site-packages\\sklearn\\cluster\\_kmeans.py:870: FutureWarning: The default value of `n_init` will change from 10 to 'auto' in 1.4. Set the value of `n_init` explicitly to suppress the warning\n",
      "  warnings.warn(\n"
     ]
    },
    {
     "name": "stdout",
     "output_type": "stream",
     "text": [
      "Itération 0:\n",
      "+ 0 jours\n",
      "Nombre de données exploitées :  (24248, 6)\n",
      "Étiquettes des échantillons : [3 4 1 ... 2 0 1]\n",
      "Adjusted Rand Index (ARI) : 0.37267920263051285\n",
      "\n"
     ]
    },
    {
     "name": "stderr",
     "output_type": "stream",
     "text": [
      "C:\\Users\\cyril\\anaconda3\\lib\\site-packages\\sklearn\\cluster\\_kmeans.py:870: FutureWarning: The default value of `n_init` will change from 10 to 'auto' in 1.4. Set the value of `n_init` explicitly to suppress the warning\n",
      "  warnings.warn(\n"
     ]
    },
    {
     "name": "stdout",
     "output_type": "stream",
     "text": [
      "Itération 1:\n",
      "+ 15 jours\n",
      "Nombre de données exploitées :  (26527, 6)\n",
      "Étiquettes des échantillons : [0 0 3 ... 4 2 1]\n",
      "Adjusted Rand Index (ARI) : 0.45252745212907686\n",
      "\n"
     ]
    },
    {
     "name": "stderr",
     "output_type": "stream",
     "text": [
      "C:\\Users\\cyril\\anaconda3\\lib\\site-packages\\sklearn\\cluster\\_kmeans.py:870: FutureWarning: The default value of `n_init` will change from 10 to 'auto' in 1.4. Set the value of `n_init` explicitly to suppress the warning\n",
      "  warnings.warn(\n"
     ]
    },
    {
     "name": "stdout",
     "output_type": "stream",
     "text": [
      "Itération 2:\n",
      "+ 30 jours\n",
      "Nombre de données exploitées :  (28644, 6)\n",
      "Étiquettes des échantillons : [3 3 2 ... 4 0 1]\n",
      "Adjusted Rand Index (ARI) : 0.507235301601809\n",
      "\n"
     ]
    },
    {
     "name": "stderr",
     "output_type": "stream",
     "text": [
      "C:\\Users\\cyril\\anaconda3\\lib\\site-packages\\sklearn\\cluster\\_kmeans.py:870: FutureWarning: The default value of `n_init` will change from 10 to 'auto' in 1.4. Set the value of `n_init` explicitly to suppress the warning\n",
      "  warnings.warn(\n"
     ]
    },
    {
     "name": "stdout",
     "output_type": "stream",
     "text": [
      "Itération 3:\n",
      "+ 45 jours\n",
      "Nombre de données exploitées :  (30963, 6)\n",
      "Étiquettes des échantillons : [2 2 3 ... 4 0 1]\n",
      "Adjusted Rand Index (ARI) : 0.5593024882332456\n",
      "\n"
     ]
    },
    {
     "name": "stderr",
     "output_type": "stream",
     "text": [
      "C:\\Users\\cyril\\anaconda3\\lib\\site-packages\\sklearn\\cluster\\_kmeans.py:870: FutureWarning: The default value of `n_init` will change from 10 to 'auto' in 1.4. Set the value of `n_init` explicitly to suppress the warning\n",
      "  warnings.warn(\n"
     ]
    },
    {
     "name": "stdout",
     "output_type": "stream",
     "text": [
      "Itération 4:\n",
      "+ 60 jours\n",
      "Nombre de données exploitées :  (33039, 6)\n",
      "Étiquettes des échantillons : [0 0 1 ... 0 0 2]\n",
      "Adjusted Rand Index (ARI) : 0.5994980815999207\n",
      "\n"
     ]
    },
    {
     "name": "stderr",
     "output_type": "stream",
     "text": [
      "C:\\Users\\cyril\\anaconda3\\lib\\site-packages\\sklearn\\cluster\\_kmeans.py:870: FutureWarning: The default value of `n_init` will change from 10 to 'auto' in 1.4. Set the value of `n_init` explicitly to suppress the warning\n",
      "  warnings.warn(\n"
     ]
    },
    {
     "name": "stdout",
     "output_type": "stream",
     "text": [
      "Itération 5:\n",
      "+ 75 jours\n",
      "Nombre de données exploitées :  (35660, 6)\n",
      "Étiquettes des échantillons : [0 0 1 ... 0 0 1]\n",
      "Adjusted Rand Index (ARI) : 0.8126530503099717\n",
      "\n"
     ]
    },
    {
     "name": "stderr",
     "output_type": "stream",
     "text": [
      "C:\\Users\\cyril\\anaconda3\\lib\\site-packages\\sklearn\\cluster\\_kmeans.py:870: FutureWarning: The default value of `n_init` will change from 10 to 'auto' in 1.4. Set the value of `n_init` explicitly to suppress the warning\n",
      "  warnings.warn(\n"
     ]
    },
    {
     "name": "stdout",
     "output_type": "stream",
     "text": [
      "Itération 6:\n",
      "+ 90 jours\n",
      "Nombre de données exploitées :  (40798, 6)\n",
      "Étiquettes des échantillons : [2 2 3 ... 2 2 0]\n",
      "Adjusted Rand Index (ARI) : 0.7465088532470269\n",
      "\n"
     ]
    },
    {
     "name": "stderr",
     "output_type": "stream",
     "text": [
      "C:\\Users\\cyril\\anaconda3\\lib\\site-packages\\sklearn\\cluster\\_kmeans.py:870: FutureWarning: The default value of `n_init` will change from 10 to 'auto' in 1.4. Set the value of `n_init` explicitly to suppress the warning\n",
      "  warnings.warn(\n"
     ]
    },
    {
     "name": "stdout",
     "output_type": "stream",
     "text": [
      "Itération 7:\n",
      "+ 105 jours\n",
      "Nombre de données exploitées :  (44073, 6)\n",
      "Étiquettes des échantillons : [3 3 1 ... 3 3 1]\n",
      "Adjusted Rand Index (ARI) : 0.903544903268086\n",
      "\n"
     ]
    },
    {
     "name": "stderr",
     "output_type": "stream",
     "text": [
      "C:\\Users\\cyril\\anaconda3\\lib\\site-packages\\sklearn\\cluster\\_kmeans.py:870: FutureWarning: The default value of `n_init` will change from 10 to 'auto' in 1.4. Set the value of `n_init` explicitly to suppress the warning\n",
      "  warnings.warn(\n"
     ]
    },
    {
     "name": "stdout",
     "output_type": "stream",
     "text": [
      "Itération 8:\n",
      "+ 120 jours\n",
      "Nombre de données exploitées :  (45994, 6)\n",
      "Étiquettes des échantillons : [0 0 1 ... 0 0 1]\n",
      "Adjusted Rand Index (ARI) : 0.9158702414070533\n",
      "\n"
     ]
    },
    {
     "name": "stderr",
     "output_type": "stream",
     "text": [
      "C:\\Users\\cyril\\anaconda3\\lib\\site-packages\\sklearn\\cluster\\_kmeans.py:870: FutureWarning: The default value of `n_init` will change from 10 to 'auto' in 1.4. Set the value of `n_init` explicitly to suppress the warning\n",
      "  warnings.warn(\n"
     ]
    },
    {
     "name": "stdout",
     "output_type": "stream",
     "text": [
      "Itération 9:\n",
      "+ 135 jours\n",
      "Nombre de données exploitées :  (49718, 6)\n",
      "Étiquettes des échantillons : [0 0 0 ... 0 0 2]\n",
      "Adjusted Rand Index (ARI) : 0.9192517461513925\n",
      "\n"
     ]
    },
    {
     "name": "stderr",
     "output_type": "stream",
     "text": [
      "C:\\Users\\cyril\\anaconda3\\lib\\site-packages\\sklearn\\cluster\\_kmeans.py:870: FutureWarning: The default value of `n_init` will change from 10 to 'auto' in 1.4. Set the value of `n_init` explicitly to suppress the warning\n",
      "  warnings.warn(\n"
     ]
    },
    {
     "name": "stdout",
     "output_type": "stream",
     "text": [
      "Itération 10:\n",
      "+ 150 jours\n",
      "Nombre de données exploitées :  (53123, 6)\n",
      "Étiquettes des échantillons : [1 1 1 ... 1 1 4]\n",
      "Adjusted Rand Index (ARI) : 0.9188088862119006\n",
      "\n"
     ]
    },
    {
     "name": "stderr",
     "output_type": "stream",
     "text": [
      "C:\\Users\\cyril\\anaconda3\\lib\\site-packages\\sklearn\\cluster\\_kmeans.py:870: FutureWarning: The default value of `n_init` will change from 10 to 'auto' in 1.4. Set the value of `n_init` explicitly to suppress the warning\n",
      "  warnings.warn(\n"
     ]
    },
    {
     "name": "stdout",
     "output_type": "stream",
     "text": [
      "Itération 11:\n",
      "+ 165 jours\n",
      "Nombre de données exploitées :  (56543, 6)\n",
      "Étiquettes des échantillons : [3 3 3 ... 3 3 0]\n",
      "Adjusted Rand Index (ARI) : 0.9139683212412786\n",
      "\n"
     ]
    },
    {
     "name": "stderr",
     "output_type": "stream",
     "text": [
      "C:\\Users\\cyril\\anaconda3\\lib\\site-packages\\sklearn\\cluster\\_kmeans.py:870: FutureWarning: The default value of `n_init` will change from 10 to 'auto' in 1.4. Set the value of `n_init` explicitly to suppress the warning\n",
      "  warnings.warn(\n"
     ]
    },
    {
     "name": "stdout",
     "output_type": "stream",
     "text": [
      "Itération 12:\n",
      "+ 180 jours\n",
      "Nombre de données exploitées :  (60313, 6)\n",
      "Étiquettes des échantillons : [1 1 1 ... 1 1 2]\n",
      "Adjusted Rand Index (ARI) : 0.9209220341391302\n",
      "\n"
     ]
    },
    {
     "name": "stderr",
     "output_type": "stream",
     "text": [
      "C:\\Users\\cyril\\anaconda3\\lib\\site-packages\\sklearn\\cluster\\_kmeans.py:870: FutureWarning: The default value of `n_init` will change from 10 to 'auto' in 1.4. Set the value of `n_init` explicitly to suppress the warning\n",
      "  warnings.warn(\n"
     ]
    },
    {
     "name": "stdout",
     "output_type": "stream",
     "text": [
      "Itération 13:\n",
      "+ 195 jours\n",
      "Nombre de données exploitées :  (63704, 6)\n",
      "Étiquettes des échantillons : [1 1 1 ... 1 1 2]\n",
      "Adjusted Rand Index (ARI) : 0.8625352102043744\n",
      "\n"
     ]
    },
    {
     "name": "stderr",
     "output_type": "stream",
     "text": [
      "C:\\Users\\cyril\\anaconda3\\lib\\site-packages\\sklearn\\cluster\\_kmeans.py:870: FutureWarning: The default value of `n_init` will change from 10 to 'auto' in 1.4. Set the value of `n_init` explicitly to suppress the warning\n",
      "  warnings.warn(\n"
     ]
    },
    {
     "name": "stdout",
     "output_type": "stream",
     "text": [
      "Itération 14:\n",
      "+ 210 jours\n",
      "Nombre de données exploitées :  (67102, 6)\n",
      "Étiquettes des échantillons : [0 0 0 ... 0 0 1]\n",
      "Adjusted Rand Index (ARI) : 0.8032837402993424\n",
      "\n"
     ]
    },
    {
     "name": "stderr",
     "output_type": "stream",
     "text": [
      "C:\\Users\\cyril\\anaconda3\\lib\\site-packages\\sklearn\\cluster\\_kmeans.py:870: FutureWarning: The default value of `n_init` will change from 10 to 'auto' in 1.4. Set the value of `n_init` explicitly to suppress the warning\n",
      "  warnings.warn(\n"
     ]
    },
    {
     "name": "stdout",
     "output_type": "stream",
     "text": [
      "Itération 15:\n",
      "+ 225 jours\n",
      "Nombre de données exploitées :  (70470, 6)\n",
      "Étiquettes des échantillons : [3 3 3 ... 3 3 1]\n",
      "Adjusted Rand Index (ARI) : 0.976209905794069\n",
      "\n"
     ]
    },
    {
     "name": "stderr",
     "output_type": "stream",
     "text": [
      "C:\\Users\\cyril\\anaconda3\\lib\\site-packages\\sklearn\\cluster\\_kmeans.py:870: FutureWarning: The default value of `n_init` will change from 10 to 'auto' in 1.4. Set the value of `n_init` explicitly to suppress the warning\n",
      "  warnings.warn(\n"
     ]
    },
    {
     "name": "stdout",
     "output_type": "stream",
     "text": [
      "Itération 16:\n",
      "+ 240 jours\n",
      "Nombre de données exploitées :  (73959, 6)\n",
      "Étiquettes des échantillons : [2 2 2 ... 0 2 1]\n",
      "Adjusted Rand Index (ARI) : 0.9846504665004852\n",
      "\n"
     ]
    },
    {
     "name": "stderr",
     "output_type": "stream",
     "text": [
      "C:\\Users\\cyril\\anaconda3\\lib\\site-packages\\sklearn\\cluster\\_kmeans.py:870: FutureWarning: The default value of `n_init` will change from 10 to 'auto' in 1.4. Set the value of `n_init` explicitly to suppress the warning\n",
      "  warnings.warn(\n"
     ]
    },
    {
     "name": "stdout",
     "output_type": "stream",
     "text": [
      "Itération 17:\n",
      "+ 255 jours\n",
      "Nombre de données exploitées :  (78191, 6)\n",
      "Étiquettes des échantillons : [0 0 0 ... 2 0 3]\n",
      "Adjusted Rand Index (ARI) : 0.9890891708969446\n",
      "\n"
     ]
    },
    {
     "name": "stderr",
     "output_type": "stream",
     "text": [
      "C:\\Users\\cyril\\anaconda3\\lib\\site-packages\\sklearn\\cluster\\_kmeans.py:870: FutureWarning: The default value of `n_init` will change from 10 to 'auto' in 1.4. Set the value of `n_init` explicitly to suppress the warning\n",
      "  warnings.warn(\n"
     ]
    },
    {
     "name": "stdout",
     "output_type": "stream",
     "text": [
      "Itération 18:\n",
      "+ 270 jours\n",
      "Nombre de données exploitées :  (80361, 6)\n",
      "Étiquettes des échantillons : [0 0 0 ... 2 0 1]\n",
      "Adjusted Rand Index (ARI) : 0.9908970901057761\n",
      "\n"
     ]
    },
    {
     "name": "stderr",
     "output_type": "stream",
     "text": [
      "C:\\Users\\cyril\\anaconda3\\lib\\site-packages\\sklearn\\cluster\\_kmeans.py:870: FutureWarning: The default value of `n_init` will change from 10 to 'auto' in 1.4. Set the value of `n_init` explicitly to suppress the warning\n",
      "  warnings.warn(\n"
     ]
    },
    {
     "name": "stdout",
     "output_type": "stream",
     "text": [
      "Itération 19:\n",
      "+ 285 jours\n",
      "Nombre de données exploitées :  (83388, 6)\n",
      "Étiquettes des échantillons : [1 1 1 ... 1 2 3]\n",
      "Adjusted Rand Index (ARI) : 0.9966296917050951\n",
      "\n"
     ]
    },
    {
     "name": "stderr",
     "output_type": "stream",
     "text": [
      "C:\\Users\\cyril\\anaconda3\\lib\\site-packages\\sklearn\\cluster\\_kmeans.py:870: FutureWarning: The default value of `n_init` will change from 10 to 'auto' in 1.4. Set the value of `n_init` explicitly to suppress the warning\n",
      "  warnings.warn(\n"
     ]
    },
    {
     "name": "stdout",
     "output_type": "stream",
     "text": [
      "Itération 20:\n",
      "+ 300 jours\n",
      "Nombre de données exploitées :  (86313, 6)\n",
      "Étiquettes des échantillons : [0 0 0 ... 0 2 3]\n",
      "Adjusted Rand Index (ARI) : 0.9996402206306637\n",
      "\n"
     ]
    },
    {
     "name": "stderr",
     "output_type": "stream",
     "text": [
      "C:\\Users\\cyril\\anaconda3\\lib\\site-packages\\sklearn\\cluster\\_kmeans.py:870: FutureWarning: The default value of `n_init` will change from 10 to 'auto' in 1.4. Set the value of `n_init` explicitly to suppress the warning\n",
      "  warnings.warn(\n"
     ]
    },
    {
     "name": "stdout",
     "output_type": "stream",
     "text": [
      "Itération 21:\n",
      "+ 315 jours\n",
      "Nombre de données exploitées :  (88679, 6)\n",
      "Étiquettes des échantillons : [0 0 0 ... 0 3 1]\n",
      "Adjusted Rand Index (ARI) : 0.9999786207929394\n",
      "\n"
     ]
    },
    {
     "name": "stderr",
     "output_type": "stream",
     "text": [
      "C:\\Users\\cyril\\anaconda3\\lib\\site-packages\\sklearn\\cluster\\_kmeans.py:870: FutureWarning: The default value of `n_init` will change from 10 to 'auto' in 1.4. Set the value of `n_init` explicitly to suppress the warning\n",
      "  warnings.warn(\n"
     ]
    },
    {
     "name": "stdout",
     "output_type": "stream",
     "text": [
      "Itération 22:\n",
      "+ 330 jours\n",
      "Nombre de données exploitées :  (92234, 6)\n",
      "Étiquettes des échantillons : [2 2 2 ... 2 1 0]\n",
      "Adjusted Rand Index (ARI) : 1.0\n",
      "\n"
     ]
    },
    {
     "name": "stderr",
     "output_type": "stream",
     "text": [
      "C:\\Users\\cyril\\anaconda3\\lib\\site-packages\\sklearn\\cluster\\_kmeans.py:870: FutureWarning: The default value of `n_init` will change from 10 to 'auto' in 1.4. Set the value of `n_init` explicitly to suppress the warning\n",
      "  warnings.warn(\n"
     ]
    },
    {
     "name": "stdout",
     "output_type": "stream",
     "text": [
      "Itération 23:\n",
      "+ 345 jours\n",
      "Nombre de données exploitées :  (96456, 6)\n",
      "Étiquettes des échantillons : [3 3 3 ... 3 1 0]\n",
      "Adjusted Rand Index (ARI) : 1.0\n",
      "\n"
     ]
    },
    {
     "name": "stderr",
     "output_type": "stream",
     "text": [
      "C:\\Users\\cyril\\anaconda3\\lib\\site-packages\\sklearn\\cluster\\_kmeans.py:870: FutureWarning: The default value of `n_init` will change from 10 to 'auto' in 1.4. Set the value of `n_init` explicitly to suppress the warning\n",
      "  warnings.warn(\n"
     ]
    },
    {
     "name": "stdout",
     "output_type": "stream",
     "text": [
      "Itération 24:\n",
      "+ 360 jours\n",
      "Nombre de données exploitées :  (98665, 6)\n",
      "Étiquettes des échantillons : [0 0 0 ... 0 2 1]\n",
      "Adjusted Rand Index (ARI) : 1.0\n",
      "\n"
     ]
    }
   ],
   "source": [
    "from sklearn.cluster import KMeans\n",
    "from sklearn.metrics import adjusted_rand_score\n",
    "from sklearn.preprocessing import StandardScaler\n",
    "from sklearn.metrics import silhouette_score\n",
    "\n",
    "scaler = StandardScaler()\n",
    "scaled_data = scaler.fit_transform(df_cluster_advanced)\n",
    "scaled_data = pd.DataFrame(scaled_data, columns = df_cluster_advanced.columns)\n",
    "\n",
    "n_iterations = 25\n",
    "\n",
    "# Effectuer plusieurs K-means avec des initialisations aléatoires\n",
    "for i in range(n_iterations):\n",
    "    \n",
    "    # Étiquettes de classe réelles (pour l'évaluation de l'ARI)\n",
    "    y_true = df_RFM_cluster.loc[(df_RFM_cluster[\"Ancienneté\"] < 773) &\n",
    "                            (df_RFM_cluster[\"Ancienneté\"] > (408-i*15)), 'cluster' ]\n",
    "    \n",
    "    X = df_cluster_advanced.loc[(df_cluster_advanced[\"Ancienneté\"] < 773) &\n",
    "                                (df_cluster_advanced[\"Ancienneté\"] > (408-(i*15))), :]\n",
    "    \n",
    "    scaler = StandardScaler()\n",
    "    X_scaled = pd.DataFrame(scaler.fit_transform(X), columns = df_cluster_advanced.columns)\n",
    "    #X_scaled = pd.DataFrame(X_scaled, columns = df_cluster_advanced.columns)\n",
    "    \n",
    "    # Créer un objet KMeans avec 5 clusters et une init aléatoire\n",
    "    kmeans = KMeans(n_clusters=5, init='k-means++', random_state=1)\n",
    "    \n",
    "    # Effectuer le clustering\n",
    "    kmeans.fit(X_scaled)\n",
    "    \n",
    "    # Obtenir les étiquettes de cluster assignées à chaque échantillon\n",
    "    labels = kmeans.labels_\n",
    "    \n",
    "    # Calculer l'Adjusted Rand Index (ARI)\n",
    "    ari = adjusted_rand_score(y_true, labels)\n",
    "    \n",
    "    # Afficher les résultats\n",
    "    print(f\"Itération {i}:\")\n",
    "    print(\"+\",i*15,'jours')\n",
    "    print(\"Nombre de données exploitées : \", X.shape)\n",
    "    print(\"Étiquettes des échantillons :\", labels)\n",
    "    print(\"Adjusted Rand Index (ARI) :\", ari)\n",
    "    print()"
   ]
  },
  {
   "cell_type": "code",
   "execution_count": 25,
   "id": "e899dfd7",
   "metadata": {},
   "outputs": [],
   "source": [
    "# On pourra aussi tester ce genre de modèle à rentraînement automatique lorsque nous seront moins affecté par la spécificité\n",
    "# des saisons et que nous aurons plus de données temporelles (plus de temps d'activité)."
   ]
  }
 ],
 "metadata": {
  "kernelspec": {
   "display_name": "Python 3 (ipykernel)",
   "language": "python",
   "name": "python3"
  },
  "language_info": {
   "codemirror_mode": {
    "name": "ipython",
    "version": 3
   },
   "file_extension": ".py",
   "mimetype": "text/x-python",
   "name": "python",
   "nbconvert_exporter": "python",
   "pygments_lexer": "ipython3",
   "version": "3.10.9"
  }
 },
 "nbformat": 4,
 "nbformat_minor": 5
}
